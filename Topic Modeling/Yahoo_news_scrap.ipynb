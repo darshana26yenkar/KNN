{
 "cells": [
  {
   "cell_type": "code",
   "execution_count": 1,
   "id": "d9f14ab0",
   "metadata": {},
   "outputs": [],
   "source": [
    "import re\n",
    "import csv\n",
    "from time import sleep\n",
    "from bs4 import BeautifulSoup\n",
    "import requests"
   ]
  },
  {
   "cell_type": "code",
   "execution_count": 2,
   "id": "5e6c26c8",
   "metadata": {},
   "outputs": [],
   "source": [
    "template = 'https://news.search.yahoo.com/search?p={}'"
   ]
  },
  {
   "cell_type": "code",
   "execution_count": 3,
   "id": "46ee7e4f",
   "metadata": {},
   "outputs": [],
   "source": [
    "headers = {\n",
    "    'accept': '*/*',\n",
    "    'accept-encoding': 'gzip, deflate, br',\n",
    "    'accept-language': 'en-US,en;q=0.9',\n",
    "    'referer': 'https://www.google.com',\n",
    "    'user-agent': 'Mozilla/5.0 (Windows NT 10.0; Win64; x64) AppleWebKit/537.36 (KHTML, like Gecko) Chrome/85.0.4183.83 Safari/537.36 Edg/85.0.564.44'\n",
    "}"
   ]
  },
  {
   "cell_type": "code",
   "execution_count": 4,
   "id": "43ab0f7a",
   "metadata": {},
   "outputs": [],
   "source": [
    "def get_article(card):\n",
    "    \"\"\"Extract article information from the raw html\"\"\"\n",
    "    headline = card.find('h4', 's-title').text\n",
    "    source = card.find(\"span\", 's-source').text\n",
    "    posted = card.find('span', 's-time').text.replace('·', '').strip()\n",
    "    description = card.find('p', 's-desc').text.strip()\n",
    "    raw_link = card.find('a').get('href')\n",
    "    unquoted_link = requests.utils.unquote(raw_link)\n",
    "    pattern = re.compile(r'RU=(.+)\\/RK')\n",
    "    clean_link = re.search(pattern, unquoted_link).group(1)\n",
    "    \n",
    "    article = (headline, source, posted, description, clean_link)\n",
    "    return article\n"
   ]
  },
  {
   "cell_type": "code",
   "execution_count": 5,
   "id": "5e1eb7b8",
   "metadata": {},
   "outputs": [],
   "source": [
    "def get_the_news(search):\n",
    "    \"\"\"Run the main program\"\"\"\n",
    "    template = 'https://news.search.yahoo.com/search?p={}'\n",
    "    url = template.format(search)\n",
    "    articles = []\n",
    "    links = set()\n",
    "    \n",
    "    while True:\n",
    "        response = requests.get(url, headers=headers)\n",
    "        soup = BeautifulSoup(response.text, 'html.parser')\n",
    "        cards = soup.find_all('div', 'NewsArticle')\n",
    "        \n",
    "        # extract articles from page\n",
    "        for card in cards:\n",
    "            article = get_article(card)\n",
    "            link = article[-1]\n",
    "            if not link in links:\n",
    "                links.add(link)\n",
    "                articles.append(article)        \n",
    "                \n",
    "        # find the next page\n",
    "        try:\n",
    "            url = soup.find('a', 'next').get('href')\n",
    "            sleep(1)\n",
    "        except AttributeError:\n",
    "            break\n",
    "            \n",
    "    # save article data\n",
    "    with open('results.csv', 'w', newline='', encoding='utf-8') as f:\n",
    "        writer = csv.writer(f)\n",
    "        writer.writerow(['Headline', 'Source', 'Posted', 'Description', 'Link'])\n",
    "        writer.writerows(articles)\n",
    "        \n",
    "    return articles"
   ]
  },
  {
   "cell_type": "code",
   "execution_count": 6,
   "id": "daaf4bf9",
   "metadata": {},
   "outputs": [],
   "source": [
    "articles = get_the_news('shares')"
   ]
  },
  {
   "cell_type": "code",
   "execution_count": 9,
   "id": "d3cd5b32",
   "metadata": {},
   "outputs": [
    {
     "ename": "AttributeError",
     "evalue": "'list' object has no attribute 'view'",
     "output_type": "error",
     "traceback": [
      "\u001b[1;31m---------------------------------------------------------------------------\u001b[0m",
      "\u001b[1;31mAttributeError\u001b[0m                            Traceback (most recent call last)",
      "\u001b[1;32m<ipython-input-9-82cd2dc93010>\u001b[0m in \u001b[0;36m<module>\u001b[1;34m\u001b[0m\n\u001b[1;32m----> 1\u001b[1;33m \u001b[0marticles\u001b[0m\u001b[1;33m.\u001b[0m\u001b[0mview\u001b[0m\u001b[1;33m\u001b[0m\u001b[1;33m\u001b[0m\u001b[0m\n\u001b[0m",
      "\u001b[1;31mAttributeError\u001b[0m: 'list' object has no attribute 'view'"
     ]
    }
   ],
   "source": [
    "articles.view"
   ]
  },
  {
   "cell_type": "code",
   "execution_count": null,
   "id": "d90b4343",
   "metadata": {},
   "outputs": [],
   "source": []
  }
 ],
 "metadata": {
  "kernelspec": {
   "display_name": "Python 3",
   "language": "python",
   "name": "python3"
  },
  "language_info": {
   "codemirror_mode": {
    "name": "ipython",
    "version": 3
   },
   "file_extension": ".py",
   "mimetype": "text/x-python",
   "name": "python",
   "nbconvert_exporter": "python",
   "pygments_lexer": "ipython3",
   "version": "3.8.8"
  }
 },
 "nbformat": 4,
 "nbformat_minor": 5
}
